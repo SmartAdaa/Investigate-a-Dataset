{
 "cells": [
  {
   "cell_type": "markdown",
   "metadata": {},
   "source": [
    "\n",
    "# Project: Investigate a Dataset - [No-show appointments]\n",
    "\n",
    "## Table of Contents\n",
    "<ul>\n",
    "<li><a href=\"#intro\">Introduction</a></li>\n",
    "<li><a href=\"#wrangling\">Data Wrangling</a></li>\n",
    "<li><a href=\"#eda\">Exploratory Data Analysis</a></li>\n",
    "<li><a href=\"#conclusions\">Conclusions</a></li>\n",
    "</ul>"
   ]
  },
  {
   "cell_type": "markdown",
   "metadata": {},
   "source": [
    "<a id='intro'></a>\n",
    "## Introduction\n",
    "\n",
    "### Dataset Description \n",
    "\n",
    "This is a collection of records of over 100 thousand medical appointments in Brazil. These were collected to better predict whether patients show up for their appointments or not. Each entry has some information about the patient:\n",
    "\n",
    "- PatientId:        The unique identifier for each patient\n",
    "- AppointmentID:    The ID for scheduled appointment\n",
    "- Gender:           Gender of the patient\n",
    "- ScheduledDay:     This tells us on what day the patient booked their appointment.\n",
    "- AppointmentDay:   The day of the appointment\n",
    "- Age:              The age of the patient\n",
    "- Neighbourhood:    This is the location of the hospital.\n",
    "- Scholarship:      Whether the patient is enrolled in Brasilian welfare program or not \n",
    "- Hipertension:     Whether the patient is hypertensive or not\n",
    "- Diabetes:         Diabetes status\n",
    "- Alcoholism:       Is the patient an alcoholic or not\n",
    "- Handcap:          Does the patient have any disability\n",
    "- SMS_received:     Was the patient advised on the appointment\n",
    "- No-show:          Whether the patient showed up for the appointment or not\n",
    "\n",
    "\n",
    "### Question(s) for Analysis\n",
    "\n",
    "1. What is the probability that a patient will not show up for an appointment?\n",
    "2. What factors are most important in predicting if a patient will show up for an appointment?\n",
    "3. Do younger people honor medical appointments more than the elders?\n",
    "4. Do medical conditions impair the ability of patients to show up for an appointment, if yes, which ones?\n",
    "\n"
   ]
  },
  {
   "cell_type": "markdown",
   "metadata": {},
   "source": [
    "<a id='wrangling'></a>\n",
    "## Data Wrangling\n",
    "\n",
    "> Inspect the dataset and make modifications where necessary\n",
    "\n",
    "\n",
    "### General Properties\n"
   ]
  },
  {
   "cell_type": "markdown",
   "metadata": {},
   "source": [
    "#### Import modules and customize features"
   ]
  },
  {
   "cell_type": "code",
   "execution_count": 1,
   "metadata": {},
   "outputs": [],
   "source": [
    "# import relevant modules\n",
    "\n",
    "import pandas as pd, numpy as np\n",
    "import matplotlib.pyplot as plt\n",
    "import seaborn as sns\n",
    "\n",
    "% matplotlib inline\n",
    "sns.set_style('darkgrid')\n",
    "pd.options.display.float_format = '{:,.2f}'.format"
   ]
  },
  {
   "cell_type": "markdown",
   "metadata": {},
   "source": [
    "#### File Management\n",
    "\n",
    "- Inspect the working directory\n",
    "- Change working directory to the folder where our data of interest is located\n",
    "- Rename the file to avoid issues when reading into a dataframe\n",
    "- Confirm the name change was successful\n",
    "- Return to home directory"
   ]
  },
  {
   "cell_type": "code",
   "execution_count": 2,
   "metadata": {},
   "outputs": [
    {
     "name": "stdout",
     "output_type": "stream",
     "text": [
      "\u001b[0m\u001b[01;34mArchive\u001b[0m/                        \u001b[01;34mDatabase_TMDb_movie_data\u001b[0m/\r\n",
      "\u001b[01;34mDatabase_Ncis_and_Census_data\u001b[0m/  Investigate_a_Dataset.ipynb\r\n",
      "\u001b[01;34mDatabase_No_show_appointments\u001b[0m/  noshowappointments-kagglev2-may-2016-Copy1.csv\r\n",
      "\u001b[01;34mDatabase_Soccer\u001b[0m/\r\n"
     ]
    }
   ],
   "source": [
    "    ls"
   ]
  },
  {
   "cell_type": "code",
   "execution_count": 3,
   "metadata": {},
   "outputs": [
    {
     "name": "stdout",
     "output_type": "stream",
     "text": [
      "/home/workspace/Database_No_show_appointments\n"
     ]
    }
   ],
   "source": [
    "    cd Database_No_show_appointments"
   ]
  },
  {
   "cell_type": "code",
   "execution_count": 4,
   "metadata": {},
   "outputs": [],
   "source": [
    "cp noshowappointments-kagglev2-may-2016.csv datafile.csv"
   ]
  },
  {
   "cell_type": "code",
   "execution_count": 5,
   "metadata": {},
   "outputs": [
    {
     "name": "stdout",
     "output_type": "stream",
     "text": [
      "datafile.csv  noshowappointments-kagglev2-may-2016.csv\r\n"
     ]
    }
   ],
   "source": [
    "ls"
   ]
  },
  {
   "cell_type": "code",
   "execution_count": 6,
   "metadata": {},
   "outputs": [
    {
     "name": "stdout",
     "output_type": "stream",
     "text": [
      "/home/workspace\n"
     ]
    }
   ],
   "source": [
    "cd .."
   ]
  },
  {
   "cell_type": "markdown",
   "metadata": {},
   "source": [
    "#### Load Data and Quick Glance"
   ]
  },
  {
   "cell_type": "code",
   "execution_count": 7,
   "metadata": {},
   "outputs": [
    {
     "data": {
      "text/html": [
       "<div>\n",
       "<style scoped>\n",
       "    .dataframe tbody tr th:only-of-type {\n",
       "        vertical-align: middle;\n",
       "    }\n",
       "\n",
       "    .dataframe tbody tr th {\n",
       "        vertical-align: top;\n",
       "    }\n",
       "\n",
       "    .dataframe thead th {\n",
       "        text-align: right;\n",
       "    }\n",
       "</style>\n",
       "<table border=\"1\" class=\"dataframe\">\n",
       "  <thead>\n",
       "    <tr style=\"text-align: right;\">\n",
       "      <th></th>\n",
       "      <th>PatientId</th>\n",
       "      <th>AppointmentID</th>\n",
       "      <th>Gender</th>\n",
       "      <th>ScheduledDay</th>\n",
       "      <th>AppointmentDay</th>\n",
       "      <th>Age</th>\n",
       "      <th>Neighbourhood</th>\n",
       "      <th>Scholarship</th>\n",
       "      <th>Hipertension</th>\n",
       "      <th>Diabetes</th>\n",
       "      <th>Alcoholism</th>\n",
       "      <th>Handcap</th>\n",
       "      <th>SMS_received</th>\n",
       "      <th>No-show</th>\n",
       "    </tr>\n",
       "  </thead>\n",
       "  <tbody>\n",
       "    <tr>\n",
       "      <th>0</th>\n",
       "      <td>29,872,499,824,296.00</td>\n",
       "      <td>5642903</td>\n",
       "      <td>F</td>\n",
       "      <td>2016-04-29T18:38:08Z</td>\n",
       "      <td>2016-04-29T00:00:00Z</td>\n",
       "      <td>62</td>\n",
       "      <td>JARDIM DA PENHA</td>\n",
       "      <td>0</td>\n",
       "      <td>1</td>\n",
       "      <td>0</td>\n",
       "      <td>0</td>\n",
       "      <td>0</td>\n",
       "      <td>0</td>\n",
       "      <td>No</td>\n",
       "    </tr>\n",
       "    <tr>\n",
       "      <th>1</th>\n",
       "      <td>558,997,776,694,438.00</td>\n",
       "      <td>5642503</td>\n",
       "      <td>M</td>\n",
       "      <td>2016-04-29T16:08:27Z</td>\n",
       "      <td>2016-04-29T00:00:00Z</td>\n",
       "      <td>56</td>\n",
       "      <td>JARDIM DA PENHA</td>\n",
       "      <td>0</td>\n",
       "      <td>0</td>\n",
       "      <td>0</td>\n",
       "      <td>0</td>\n",
       "      <td>0</td>\n",
       "      <td>0</td>\n",
       "      <td>No</td>\n",
       "    </tr>\n",
       "    <tr>\n",
       "      <th>2</th>\n",
       "      <td>4,262,962,299,951.00</td>\n",
       "      <td>5642549</td>\n",
       "      <td>F</td>\n",
       "      <td>2016-04-29T16:19:04Z</td>\n",
       "      <td>2016-04-29T00:00:00Z</td>\n",
       "      <td>62</td>\n",
       "      <td>MATA DA PRAIA</td>\n",
       "      <td>0</td>\n",
       "      <td>0</td>\n",
       "      <td>0</td>\n",
       "      <td>0</td>\n",
       "      <td>0</td>\n",
       "      <td>0</td>\n",
       "      <td>No</td>\n",
       "    </tr>\n",
       "    <tr>\n",
       "      <th>3</th>\n",
       "      <td>867,951,213,174.00</td>\n",
       "      <td>5642828</td>\n",
       "      <td>F</td>\n",
       "      <td>2016-04-29T17:29:31Z</td>\n",
       "      <td>2016-04-29T00:00:00Z</td>\n",
       "      <td>8</td>\n",
       "      <td>PONTAL DE CAMBURI</td>\n",
       "      <td>0</td>\n",
       "      <td>0</td>\n",
       "      <td>0</td>\n",
       "      <td>0</td>\n",
       "      <td>0</td>\n",
       "      <td>0</td>\n",
       "      <td>No</td>\n",
       "    </tr>\n",
       "    <tr>\n",
       "      <th>4</th>\n",
       "      <td>8,841,186,448,183.00</td>\n",
       "      <td>5642494</td>\n",
       "      <td>F</td>\n",
       "      <td>2016-04-29T16:07:23Z</td>\n",
       "      <td>2016-04-29T00:00:00Z</td>\n",
       "      <td>56</td>\n",
       "      <td>JARDIM DA PENHA</td>\n",
       "      <td>0</td>\n",
       "      <td>1</td>\n",
       "      <td>1</td>\n",
       "      <td>0</td>\n",
       "      <td>0</td>\n",
       "      <td>0</td>\n",
       "      <td>No</td>\n",
       "    </tr>\n",
       "  </tbody>\n",
       "</table>\n",
       "</div>"
      ],
      "text/plain": [
       "               PatientId  AppointmentID Gender          ScheduledDay  \\\n",
       "0  29,872,499,824,296.00        5642903      F  2016-04-29T18:38:08Z   \n",
       "1 558,997,776,694,438.00        5642503      M  2016-04-29T16:08:27Z   \n",
       "2   4,262,962,299,951.00        5642549      F  2016-04-29T16:19:04Z   \n",
       "3     867,951,213,174.00        5642828      F  2016-04-29T17:29:31Z   \n",
       "4   8,841,186,448,183.00        5642494      F  2016-04-29T16:07:23Z   \n",
       "\n",
       "         AppointmentDay  Age      Neighbourhood  Scholarship  Hipertension  \\\n",
       "0  2016-04-29T00:00:00Z   62    JARDIM DA PENHA            0             1   \n",
       "1  2016-04-29T00:00:00Z   56    JARDIM DA PENHA            0             0   \n",
       "2  2016-04-29T00:00:00Z   62      MATA DA PRAIA            0             0   \n",
       "3  2016-04-29T00:00:00Z    8  PONTAL DE CAMBURI            0             0   \n",
       "4  2016-04-29T00:00:00Z   56    JARDIM DA PENHA            0             1   \n",
       "\n",
       "   Diabetes  Alcoholism  Handcap  SMS_received No-show  \n",
       "0         0           0        0             0      No  \n",
       "1         0           0        0             0      No  \n",
       "2         0           0        0             0      No  \n",
       "3         0           0        0             0      No  \n",
       "4         1           0        0             0      No  "
      ]
     },
     "execution_count": 7,
     "metadata": {},
     "output_type": "execute_result"
    }
   ],
   "source": [
    "no_show_df = pd.read_csv(r'./Database_No_show_appointments/datafile.csv')\n",
    "no_show_df.head()"
   ]
  },
  {
   "cell_type": "markdown",
   "metadata": {},
   "source": [
    "#### Quick Overview of the Data"
   ]
  },
  {
   "cell_type": "code",
   "execution_count": 8,
   "metadata": {},
   "outputs": [
    {
     "name": "stdout",
     "output_type": "stream",
     "text": [
      "<class 'pandas.core.frame.DataFrame'>\n",
      "RangeIndex: 110527 entries, 0 to 110526\n",
      "Data columns (total 14 columns):\n",
      "PatientId         110527 non-null float64\n",
      "AppointmentID     110527 non-null int64\n",
      "Gender            110527 non-null object\n",
      "ScheduledDay      110527 non-null object\n",
      "AppointmentDay    110527 non-null object\n",
      "Age               110527 non-null int64\n",
      "Neighbourhood     110527 non-null object\n",
      "Scholarship       110527 non-null int64\n",
      "Hipertension      110527 non-null int64\n",
      "Diabetes          110527 non-null int64\n",
      "Alcoholism        110527 non-null int64\n",
      "Handcap           110527 non-null int64\n",
      "SMS_received      110527 non-null int64\n",
      "No-show           110527 non-null object\n",
      "dtypes: float64(1), int64(8), object(5)\n",
      "memory usage: 11.8+ MB\n"
     ]
    }
   ],
   "source": [
    "no_show_df.info()"
   ]
  },
  {
   "cell_type": "markdown",
   "metadata": {},
   "source": [
    "\n",
    "\n",
    "- There are 110,527 entries and 14 columns (features)\n",
    "- No missing values\n",
    "- Some columns are not properly formated\n",
    "\n"
   ]
  },
  {
   "cell_type": "markdown",
   "metadata": {},
   "source": [
    "#### Statistical Summary"
   ]
  },
  {
   "cell_type": "code",
   "execution_count": 9,
   "metadata": {},
   "outputs": [
    {
     "data": {
      "text/html": [
       "<div>\n",
       "<style scoped>\n",
       "    .dataframe tbody tr th:only-of-type {\n",
       "        vertical-align: middle;\n",
       "    }\n",
       "\n",
       "    .dataframe tbody tr th {\n",
       "        vertical-align: top;\n",
       "    }\n",
       "\n",
       "    .dataframe thead th {\n",
       "        text-align: right;\n",
       "    }\n",
       "</style>\n",
       "<table border=\"1\" class=\"dataframe\">\n",
       "  <thead>\n",
       "    <tr style=\"text-align: right;\">\n",
       "      <th></th>\n",
       "      <th>PatientId</th>\n",
       "      <th>AppointmentID</th>\n",
       "      <th>Age</th>\n",
       "      <th>Scholarship</th>\n",
       "      <th>Hipertension</th>\n",
       "      <th>Diabetes</th>\n",
       "      <th>Alcoholism</th>\n",
       "      <th>Handcap</th>\n",
       "      <th>SMS_received</th>\n",
       "    </tr>\n",
       "  </thead>\n",
       "  <tbody>\n",
       "    <tr>\n",
       "      <th>count</th>\n",
       "      <td>110,527.00</td>\n",
       "      <td>110,527.00</td>\n",
       "      <td>110,527.00</td>\n",
       "      <td>110,527.00</td>\n",
       "      <td>110,527.00</td>\n",
       "      <td>110,527.00</td>\n",
       "      <td>110,527.00</td>\n",
       "      <td>110,527.00</td>\n",
       "      <td>110,527.00</td>\n",
       "    </tr>\n",
       "    <tr>\n",
       "      <th>mean</th>\n",
       "      <td>147,496,265,710,394.06</td>\n",
       "      <td>5,675,305.12</td>\n",
       "      <td>37.09</td>\n",
       "      <td>0.10</td>\n",
       "      <td>0.20</td>\n",
       "      <td>0.07</td>\n",
       "      <td>0.03</td>\n",
       "      <td>0.02</td>\n",
       "      <td>0.32</td>\n",
       "    </tr>\n",
       "    <tr>\n",
       "      <th>std</th>\n",
       "      <td>256,094,920,291,739.09</td>\n",
       "      <td>71,295.75</td>\n",
       "      <td>23.11</td>\n",
       "      <td>0.30</td>\n",
       "      <td>0.40</td>\n",
       "      <td>0.26</td>\n",
       "      <td>0.17</td>\n",
       "      <td>0.16</td>\n",
       "      <td>0.47</td>\n",
       "    </tr>\n",
       "    <tr>\n",
       "      <th>min</th>\n",
       "      <td>39,217.84</td>\n",
       "      <td>5,030,230.00</td>\n",
       "      <td>-1.00</td>\n",
       "      <td>0.00</td>\n",
       "      <td>0.00</td>\n",
       "      <td>0.00</td>\n",
       "      <td>0.00</td>\n",
       "      <td>0.00</td>\n",
       "      <td>0.00</td>\n",
       "    </tr>\n",
       "    <tr>\n",
       "      <th>25%</th>\n",
       "      <td>4,172,614,444,192.00</td>\n",
       "      <td>5,640,285.50</td>\n",
       "      <td>18.00</td>\n",
       "      <td>0.00</td>\n",
       "      <td>0.00</td>\n",
       "      <td>0.00</td>\n",
       "      <td>0.00</td>\n",
       "      <td>0.00</td>\n",
       "      <td>0.00</td>\n",
       "    </tr>\n",
       "    <tr>\n",
       "      <th>50%</th>\n",
       "      <td>31,731,838,713,978.00</td>\n",
       "      <td>5,680,573.00</td>\n",
       "      <td>37.00</td>\n",
       "      <td>0.00</td>\n",
       "      <td>0.00</td>\n",
       "      <td>0.00</td>\n",
       "      <td>0.00</td>\n",
       "      <td>0.00</td>\n",
       "      <td>0.00</td>\n",
       "    </tr>\n",
       "    <tr>\n",
       "      <th>75%</th>\n",
       "      <td>94,391,720,898,175.00</td>\n",
       "      <td>5,725,523.50</td>\n",
       "      <td>55.00</td>\n",
       "      <td>0.00</td>\n",
       "      <td>0.00</td>\n",
       "      <td>0.00</td>\n",
       "      <td>0.00</td>\n",
       "      <td>0.00</td>\n",
       "      <td>1.00</td>\n",
       "    </tr>\n",
       "    <tr>\n",
       "      <th>max</th>\n",
       "      <td>999,981,631,772,427.00</td>\n",
       "      <td>5,790,484.00</td>\n",
       "      <td>115.00</td>\n",
       "      <td>1.00</td>\n",
       "      <td>1.00</td>\n",
       "      <td>1.00</td>\n",
       "      <td>1.00</td>\n",
       "      <td>4.00</td>\n",
       "      <td>1.00</td>\n",
       "    </tr>\n",
       "  </tbody>\n",
       "</table>\n",
       "</div>"
      ],
      "text/plain": [
       "                   PatientId  AppointmentID        Age  Scholarship  \\\n",
       "count             110,527.00     110,527.00 110,527.00   110,527.00   \n",
       "mean  147,496,265,710,394.06   5,675,305.12      37.09         0.10   \n",
       "std   256,094,920,291,739.09      71,295.75      23.11         0.30   \n",
       "min                39,217.84   5,030,230.00      -1.00         0.00   \n",
       "25%     4,172,614,444,192.00   5,640,285.50      18.00         0.00   \n",
       "50%    31,731,838,713,978.00   5,680,573.00      37.00         0.00   \n",
       "75%    94,391,720,898,175.00   5,725,523.50      55.00         0.00   \n",
       "max   999,981,631,772,427.00   5,790,484.00     115.00         1.00   \n",
       "\n",
       "       Hipertension   Diabetes  Alcoholism    Handcap  SMS_received  \n",
       "count    110,527.00 110,527.00  110,527.00 110,527.00    110,527.00  \n",
       "mean           0.20       0.07        0.03       0.02          0.32  \n",
       "std            0.40       0.26        0.17       0.16          0.47  \n",
       "min            0.00       0.00        0.00       0.00          0.00  \n",
       "25%            0.00       0.00        0.00       0.00          0.00  \n",
       "50%            0.00       0.00        0.00       0.00          0.00  \n",
       "75%            0.00       0.00        0.00       0.00          1.00  \n",
       "max            1.00       1.00        1.00       4.00          1.00  "
      ]
     },
     "execution_count": 9,
     "metadata": {},
     "output_type": "execute_result"
    }
   ],
   "source": [
    "no_show_df.describe()"
   ]
  },
  {
   "cell_type": "markdown",
   "metadata": {},
   "source": [
    "\n",
    "\n",
    "#### Check for Duplicates\n"
   ]
  },
  {
   "cell_type": "code",
   "execution_count": 10,
   "metadata": {},
   "outputs": [
    {
     "data": {
      "text/plain": [
       "0"
      ]
     },
     "execution_count": 10,
     "metadata": {},
     "output_type": "execute_result"
    }
   ],
   "source": [
    "no_show_df.duplicated().sum()"
   ]
  },
  {
   "cell_type": "markdown",
   "metadata": {},
   "source": [
    "\n",
    "#### Check Datatypes\n"
   ]
  },
  {
   "cell_type": "code",
   "execution_count": 11,
   "metadata": {},
   "outputs": [
    {
     "data": {
      "text/plain": [
       "PatientId         <class 'numpy.float64'>\n",
       "AppointmentID       <class 'numpy.int64'>\n",
       "Gender                      <class 'str'>\n",
       "ScheduledDay                <class 'str'>\n",
       "AppointmentDay              <class 'str'>\n",
       "Age                 <class 'numpy.int64'>\n",
       "Neighbourhood               <class 'str'>\n",
       "Scholarship         <class 'numpy.int64'>\n",
       "Hipertension        <class 'numpy.int64'>\n",
       "Diabetes            <class 'numpy.int64'>\n",
       "Alcoholism          <class 'numpy.int64'>\n",
       "Handcap             <class 'numpy.int64'>\n",
       "SMS_received        <class 'numpy.int64'>\n",
       "No-show                     <class 'str'>\n",
       "dtype: object"
      ]
     },
     "execution_count": 11,
     "metadata": {},
     "output_type": "execute_result"
    }
   ],
   "source": [
    "types_dict = pd.Series(np.array([type(no_show_df[c][0]) for c in list(no_show_df)]))\n",
    "types_dict.index = np.array(no_show_df.columns)\n",
    "types_dict"
   ]
  },
  {
   "cell_type": "markdown",
   "metadata": {},
   "source": [
    "\n",
    "#### Check that ages are normal"
   ]
  },
  {
   "cell_type": "code",
   "execution_count": 12,
   "metadata": {},
   "outputs": [
    {
     "data": {
      "text/plain": [
       "array([  0, 102, 115, 100,  -1])"
      ]
     },
     "execution_count": 12,
     "metadata": {},
     "output_type": "execute_result"
    }
   ],
   "source": [
    "no_show_df.query(f'(Age <= 0) | (Age >= 100)')['Age'].unique()"
   ]
  },
  {
   "cell_type": "markdown",
   "metadata": {},
   "source": [
    "\n",
    "#### Inspect No-show column"
   ]
  },
  {
   "cell_type": "code",
   "execution_count": 13,
   "metadata": {},
   "outputs": [
    {
     "data": {
      "text/plain": [
       "array(['No', 'Yes'], dtype=object)"
      ]
     },
     "execution_count": 13,
     "metadata": {},
     "output_type": "execute_result"
    }
   ],
   "source": [
    "no_show_df['No-show'].unique()"
   ]
  },
  {
   "cell_type": "markdown",
   "metadata": {},
   "source": [
    "\n",
    "### Data Cleaning\n",
    "Make necessary modifications to improve the quality of our data."
   ]
  },
  {
   "cell_type": "markdown",
   "metadata": {},
   "source": [
    "#### Convert PatientId from Float to Int"
   ]
  },
  {
   "cell_type": "code",
   "execution_count": 14,
   "metadata": {},
   "outputs": [],
   "source": [
    "no_show_df['PatientId'] = no_show_df['PatientId'].astype(int)"
   ]
  },
  {
   "cell_type": "markdown",
   "metadata": {},
   "source": [
    "#### Convert string to datetime for the ScheduledDay and AppointmentDay columns"
   ]
  },
  {
   "cell_type": "code",
   "execution_count": 15,
   "metadata": {},
   "outputs": [],
   "source": [
    "def string_to_date(dataframe,columnName):\n",
    "    return dataframe[columnName].apply(lambda x: pd.to_datetime(x).strftime('%Y-%m-%d'))\n",
    "\n",
    "no_show_df['ScheduledDay'] = string_to_date(no_show_df,'ScheduledDay')\n",
    "no_show_df['AppointmentDay'] = string_to_date(no_show_df,'AppointmentDay')"
   ]
  },
  {
   "cell_type": "markdown",
   "metadata": {},
   "source": [
    "#### Rename columns Hipertension, and Handcap"
   ]
  },
  {
   "cell_type": "code",
   "execution_count": 16,
   "metadata": {},
   "outputs": [],
   "source": [
    "no_show_df.rename(columns = {'Hipertension':'Hypertension', 'Handcap':'Handicap'}, inplace=True)"
   ]
  },
  {
   "cell_type": "markdown",
   "metadata": {},
   "source": [
    "#### Drop ages that are below zero and above 100"
   ]
  },
  {
   "cell_type": "code",
   "execution_count": 17,
   "metadata": {},
   "outputs": [],
   "source": [
    "no_show_df = no_show_df.query(f'(Age >= 0) & (Age <= 100)')"
   ]
  },
  {
   "cell_type": "markdown",
   "metadata": {},
   "source": [
    "> Ages below zero are invalid and those above hundred are rear exceptions"
   ]
  },
  {
   "cell_type": "markdown",
   "metadata": {},
   "source": [
    "\n",
    "#### Represent Dependent Variable No-show values as 0 and 1"
   ]
  },
  {
   "cell_type": "code",
   "execution_count": 18,
   "metadata": {},
   "outputs": [],
   "source": [
    "no_show_df['No-show'].replace(\"No\", 0,inplace=True)\n",
    "no_show_df['No-show'].replace(\"Yes\", 1,inplace=True)"
   ]
  },
  {
   "cell_type": "markdown",
   "metadata": {},
   "source": [
    "\n"
   ]
  },
  {
   "cell_type": "markdown",
   "metadata": {},
   "source": [
    "<a id='eda'></a>\n",
    "## Exploratory Data Analysis\n",
    "\n",
    "\n",
    "### Research Question 1\n",
    "#### What is the probability that a patient will not show up for an appointment?"
   ]
  },
  {
   "cell_type": "code",
   "execution_count": 19,
   "metadata": {},
   "outputs": [
    {
     "data": {
      "image/png": "[encoded data removed]",
      "text/plain": [
       "<matplotlib.figure.Figure at 0x7f80dc8eef98>"
      ]
     },
     "metadata": {},
     "output_type": "display_data"
    }
   ],
   "source": [
    "def autopct(pct): # only show the label when it's > 10%\n",
    "    return (f\"{'%.2f' % pct}{'%'}\")\n",
    "\n",
    "my_labels = np.array(['No','Yes'])\n",
    "\n",
    "ax = no_show_df[\"No-show\"].value_counts().plot(kind='pie', figsize=(8,8), autopct=autopct, labels=['Will Show','Not Show'], fontsize = 15)\n",
    "ax.axes.get_yaxis().set_visible(False)\n",
    "ax.set_title(f\"No Show Probability(%) \", fontsize = 15)\n",
    "plt.legend(loc='upper right', labels=my_labels, fontsize = 15);"
   ]
  },
  {
   "cell_type": "code",
   "execution_count": 20,
   "metadata": {},
   "outputs": [
    {
     "data": {
      "image/png": "[encoded data removed]",
      "text/plain": [
       "<matplotlib.figure.Figure at 0x7f80db1c1668>"
      ]
     },
     "metadata": {
      "needs_background": "light"
     },
     "output_type": "display_data"
    }
   ],
   "source": [
    "def plot_bar(plt_data,xlab,ylab,title=''):\n",
    "    axn = plt_data.plot(kind='bar', figsize=(6,6))\n",
    "    for p in axn.patches:\n",
    "        axn.annotate(np.round(p.get_height(),decimals=4),\n",
    "                    (p.get_x()+p.get_width()/2., p.get_height()),\n",
    "                    ha='center',va='center',xytext=(0, 10),textcoords='offset points')\n",
    "        axn.set_xlabel(xlab, fontsize = 15)\n",
    "        axn.set_ylabel(ylab, fontsize = 15)\n",
    "        plt.title(title, fontsize = 15)\n",
    "    return axn\n",
    "\n",
    "\n",
    "ax = plot_bar(no_show_df[\"No-show\"].value_counts(),'Outcome','Value Counts','Number of Shows and No_Shows')\n",
    "plt.show();"
   ]
  },
  {
   "cell_type": "markdown",
   "metadata": {},
   "source": [
    "On average, a high percent of  patients will show up for their appointment"
   ]
  },
  {
   "cell_type": "markdown",
   "metadata": {},
   "source": [
    "\n"
   ]
  },
  {
   "cell_type": "markdown",
   "metadata": {},
   "source": [
    "### Research Question 2\n",
    "#### What factors are most important in predicting if a patient will show up for an appointment?"
   ]
  },
  {
   "cell_type": "code",
   "execution_count": null,
   "metadata": {},
   "outputs": [],
   "source": []
  },
  {
   "cell_type": "code",
   "execution_count": 21,
   "metadata": {},
   "outputs": [
    {
     "data": {
      "image/png": "[encoded data removed]",
      "text/plain": [
       "<matplotlib.figure.Figure at 0x7f80db626ef0>"
      ]
     },
     "metadata": {
      "needs_background": "light"
     },
     "output_type": "display_data"
    },
    {
     "data": {
      "image/png": "[encoded data removed]",
      "text/plain": [
       "<matplotlib.figure.Figure at 0x7f80db78a5f8>"
      ]
     },
     "metadata": {
      "needs_background": "light"
     },
     "output_type": "display_data"
    },
    {
     "data": {
      "image/png": "[encoded data removed]",
      "text/plain": [
       "<matplotlib.figure.Figure at 0x7f80db83bc18>"
      ]
     },
     "metadata": {
      "needs_background": "light"
     },
     "output_type": "display_data"
    },
    {
     "data": {
      "image/png": "[encoded data removed]",
      "text/plain": [
       "<matplotlib.figure.Figure at 0x7f80db713978>"
      ]
     },
     "metadata": {
      "needs_background": "light"
     },
     "output_type": "display_data"
    }
   ],
   "source": [
    "Exploratory_Analysis = ['Gender','Hypertension','Alcoholism','Diabetes']\n",
    "for r in Exploratory_Analysis :\n",
    "    plt_data = no_show_df.groupby(r)['No-show'].mean()\n",
    "    title = f'Impact of {r} on Showing Up for Appointment'\n",
    "    plot_bar(plt_data,r,'Mean',title)\n",
    "    plt.show();"
   ]
  },
  {
   "cell_type": "markdown",
   "metadata": {},
   "source": [
    "##### From the plots, we can see that gender and alcoholism do not really determine if a person shows up to an appointment or not, as both males and females, alcoholics and non-alcoholice do not show up to approximately 20 percent of their appointments. \n",
    "\n",
    "##### Hypertension seems to have a small affect, as a patient who has hypertension is 3% more likely to show up than a patient who doesn't have hyper tension. Diabetes seems to have a small effect too although this is smaller than that of hypertension."
   ]
  },
  {
   "cell_type": "markdown",
   "metadata": {},
   "source": [
    "\n"
   ]
  },
  {
   "cell_type": "markdown",
   "metadata": {},
   "source": [
    "### Research Question 3\n",
    "#### Do younger people honor medical appointments more than the elders?"
   ]
  },
  {
   "cell_type": "code",
   "execution_count": 22,
   "metadata": {},
   "outputs": [
    {
     "name": "stdout",
     "output_type": "stream",
     "text": [
      "[   0.   18.   37.   55.  100.]\n"
     ]
    },
    {
     "data": {
      "text/html": [
       "<div>\n",
       "<style scoped>\n",
       "    .dataframe tbody tr th:only-of-type {\n",
       "        vertical-align: middle;\n",
       "    }\n",
       "\n",
       "    .dataframe tbody tr th {\n",
       "        vertical-align: top;\n",
       "    }\n",
       "\n",
       "    .dataframe thead th {\n",
       "        text-align: right;\n",
       "    }\n",
       "</style>\n",
       "<table border=\"1\" class=\"dataframe\">\n",
       "  <thead>\n",
       "    <tr style=\"text-align: right;\">\n",
       "      <th></th>\n",
       "      <th>PatientId</th>\n",
       "      <th>AppointmentID</th>\n",
       "      <th>Gender</th>\n",
       "      <th>ScheduledDay</th>\n",
       "      <th>AppointmentDay</th>\n",
       "      <th>Age</th>\n",
       "      <th>Neighbourhood</th>\n",
       "      <th>Scholarship</th>\n",
       "      <th>Hypertension</th>\n",
       "      <th>Diabetes</th>\n",
       "      <th>Alcoholism</th>\n",
       "      <th>Handicap</th>\n",
       "      <th>SMS_received</th>\n",
       "      <th>No-show</th>\n",
       "      <th>AgeGroup</th>\n",
       "    </tr>\n",
       "  </thead>\n",
       "  <tbody>\n",
       "    <tr>\n",
       "      <th>0</th>\n",
       "      <td>29872499824296</td>\n",
       "      <td>5642903</td>\n",
       "      <td>F</td>\n",
       "      <td>2016-04-29</td>\n",
       "      <td>2016-04-29</td>\n",
       "      <td>62</td>\n",
       "      <td>JARDIM DA PENHA</td>\n",
       "      <td>0</td>\n",
       "      <td>1</td>\n",
       "      <td>0</td>\n",
       "      <td>0</td>\n",
       "      <td>0</td>\n",
       "      <td>0</td>\n",
       "      <td>0</td>\n",
       "      <td>Senior</td>\n",
       "    </tr>\n",
       "    <tr>\n",
       "      <th>1</th>\n",
       "      <td>558997776694438</td>\n",
       "      <td>5642503</td>\n",
       "      <td>M</td>\n",
       "      <td>2016-04-29</td>\n",
       "      <td>2016-04-29</td>\n",
       "      <td>56</td>\n",
       "      <td>JARDIM DA PENHA</td>\n",
       "      <td>0</td>\n",
       "      <td>0</td>\n",
       "      <td>0</td>\n",
       "      <td>0</td>\n",
       "      <td>0</td>\n",
       "      <td>0</td>\n",
       "      <td>0</td>\n",
       "      <td>Senior</td>\n",
       "    </tr>\n",
       "    <tr>\n",
       "      <th>2</th>\n",
       "      <td>4262962299951</td>\n",
       "      <td>5642549</td>\n",
       "      <td>F</td>\n",
       "      <td>2016-04-29</td>\n",
       "      <td>2016-04-29</td>\n",
       "      <td>62</td>\n",
       "      <td>MATA DA PRAIA</td>\n",
       "      <td>0</td>\n",
       "      <td>0</td>\n",
       "      <td>0</td>\n",
       "      <td>0</td>\n",
       "      <td>0</td>\n",
       "      <td>0</td>\n",
       "      <td>0</td>\n",
       "      <td>Senior</td>\n",
       "    </tr>\n",
       "    <tr>\n",
       "      <th>3</th>\n",
       "      <td>867951213174</td>\n",
       "      <td>5642828</td>\n",
       "      <td>F</td>\n",
       "      <td>2016-04-29</td>\n",
       "      <td>2016-04-29</td>\n",
       "      <td>8</td>\n",
       "      <td>PONTAL DE CAMBURI</td>\n",
       "      <td>0</td>\n",
       "      <td>0</td>\n",
       "      <td>0</td>\n",
       "      <td>0</td>\n",
       "      <td>0</td>\n",
       "      <td>0</td>\n",
       "      <td>0</td>\n",
       "      <td>Child</td>\n",
       "    </tr>\n",
       "    <tr>\n",
       "      <th>4</th>\n",
       "      <td>8841186448183</td>\n",
       "      <td>5642494</td>\n",
       "      <td>F</td>\n",
       "      <td>2016-04-29</td>\n",
       "      <td>2016-04-29</td>\n",
       "      <td>56</td>\n",
       "      <td>JARDIM DA PENHA</td>\n",
       "      <td>0</td>\n",
       "      <td>1</td>\n",
       "      <td>1</td>\n",
       "      <td>0</td>\n",
       "      <td>0</td>\n",
       "      <td>0</td>\n",
       "      <td>0</td>\n",
       "      <td>Senior</td>\n",
       "    </tr>\n",
       "  </tbody>\n",
       "</table>\n",
       "</div>"
      ],
      "text/plain": [
       "         PatientId  AppointmentID Gender ScheduledDay AppointmentDay  Age  \\\n",
       "0   29872499824296        5642903      F   2016-04-29     2016-04-29   62   \n",
       "1  558997776694438        5642503      M   2016-04-29     2016-04-29   56   \n",
       "2    4262962299951        5642549      F   2016-04-29     2016-04-29   62   \n",
       "3     867951213174        5642828      F   2016-04-29     2016-04-29    8   \n",
       "4    8841186448183        5642494      F   2016-04-29     2016-04-29   56   \n",
       "\n",
       "       Neighbourhood  Scholarship  Hypertension  Diabetes  Alcoholism  \\\n",
       "0    JARDIM DA PENHA            0             1         0           0   \n",
       "1    JARDIM DA PENHA            0             0         0           0   \n",
       "2      MATA DA PRAIA            0             0         0           0   \n",
       "3  PONTAL DE CAMBURI            0             0         0           0   \n",
       "4    JARDIM DA PENHA            0             1         1           0   \n",
       "\n",
       "   Handicap  SMS_received  No-show AgeGroup  \n",
       "0         0             0        0   Senior  \n",
       "1         0             0        0   Senior  \n",
       "2         0             0        0   Senior  \n",
       "3         0             0        0    Child  \n",
       "4         0             0        0   Senior  "
      ]
     },
     "execution_count": 22,
     "metadata": {},
     "output_type": "execute_result"
    }
   ],
   "source": [
    "# Bin edges that will be used to \"cut\" the data into groups by age\n",
    "bin_edges = np.array(no_show_df['Age'].describe()[3:].values) \n",
    "print(bin_edges)\n",
    "\n",
    "# Labels for the four age groups\n",
    "bin_names = ['Child', 'Adult', 'Middle_Age', 'Senior'] \n",
    "\n",
    "# Creates acidity_levels column\n",
    "no_show_df['AgeGroup'] = pd.cut(no_show_df['Age'], bin_edges, labels=bin_names)\n",
    "\n",
    "# Checks for successful creation of this column\n",
    "no_show_df.head()"
   ]
  },
  {
   "cell_type": "code",
   "execution_count": 23,
   "metadata": {},
   "outputs": [
    {
     "data": {
      "image/png": "[encoded data removed]",
      "text/plain": [
       "<matplotlib.figure.Figure at 0x7f80dd4f1b70>"
      ]
     },
     "metadata": {
      "needs_background": "light"
     },
     "output_type": "display_data"
    }
   ],
   "source": [
    "# Find the mean no_show of each age group with groupby\n",
    "plt_data = no_show_df.groupby('AgeGroup')['No-show'].mean()\n",
    "ax = plot_bar(plt_data,'AgeGroup','Mean','Mean No_Show by Age Group')\n",
    "plt.show();"
   ]
  },
  {
   "cell_type": "code",
   "execution_count": 24,
   "metadata": {
    "scrolled": true
   },
   "outputs": [
    {
     "data": {
      "image/png": "[encoded data removed]",
      "text/plain": [
       "<matplotlib.figure.Figure at 0x7f80db3e83c8>"
      ]
     },
     "metadata": {
      "needs_background": "light"
     },
     "output_type": "display_data"
    }
   ],
   "source": [
    "# Find the count no_show of each age group with groupby\n",
    "plt_data = no_show_df.groupby('AgeGroup')['No-show'].value_counts()\n",
    "ax = plot_bar(plt_data,'AgeGroup','Mean','Count No_Show by Age Group')\n",
    "plt.show();"
   ]
  },
  {
   "cell_type": "code",
   "execution_count": 25,
   "metadata": {},
   "outputs": [
    {
     "data": {
      "text/plain": [
       "No-show\n",
       "0    23197\n",
       "1     4300\n",
       "Name: No-show, dtype: int64"
      ]
     },
     "execution_count": 25,
     "metadata": {},
     "output_type": "execute_result"
    }
   ],
   "source": [
    "no_show_df.groupby('AgeGroup')['No-show'].value_counts()['Senior']"
   ]
  },
  {
   "cell_type": "code",
   "execution_count": 26,
   "metadata": {},
   "outputs": [
    {
     "data": {
      "text/plain": [
       "AgeGroup\n",
       "Child         5708\n",
       "Adult         6414\n",
       "Middle_Age    5255\n",
       "Senior        4300\n",
       "Name: No-show, dtype: int64"
      ]
     },
     "execution_count": 26,
     "metadata": {},
     "output_type": "execute_result"
    }
   ],
   "source": [
    "no_show_df.groupby('AgeGroup')['No-show'].sum()"
   ]
  },
  {
   "cell_type": "code",
   "execution_count": 27,
   "metadata": {},
   "outputs": [
    {
     "name": "stdout",
     "output_type": "stream",
     "text": [
      "25327 27250 26906 27497\n",
      "0.225372132507 0.235376146789 0.212145989742 0.233261810379\n"
     ]
    }
   ],
   "source": [
    "# Find the proportion of no_show of each age group with groupby\n",
    "\n",
    "# Count of No_Show by Age Group\n",
    "ChildCount = no_show_df.groupby('AgeGroup')['No-show'].count()['Child']\n",
    "AdultCount = no_show_df.groupby('AgeGroup')['No-show'].count()['Adult']\n",
    "middleAgeCount = no_show_df.groupby('AgeGroup')['No-show'].count()['Middle_Age']\n",
    "seniorCount = no_show_df.groupby('AgeGroup')['No-show'].count()['Senior']\n",
    "print(ChildCount, AdultCount, middleAgeCount, seniorCount)\n",
    "\n",
    "prop_ChildCount = no_show_df.groupby('AgeGroup')['No-show'].sum()['Child']/ChildCount\n",
    "prop_AdultCount = no_show_df.groupby('AgeGroup')['No-show'].sum()['Adult']/AdultCount\n",
    "prop_middleAgeCount = no_show_df.groupby('AgeGroup')['No-show'].sum()['Child']/middleAgeCount\n",
    "prop_seniorCount = no_show_df.groupby('AgeGroup')['No-show'].sum()['Adult']/seniorCount\n",
    "print(prop_ChildCount, prop_AdultCount, prop_middleAgeCount, prop_seniorCount)\n"
   ]
  },
  {
   "cell_type": "code",
   "execution_count": 28,
   "metadata": {},
   "outputs": [
    {
     "data": {
      "image/png": "[encoded data removed]",
      "text/plain": [
       "<matplotlib.figure.Figure at 0x7f80dd0a4550>"
      ]
     },
     "metadata": {
      "needs_background": "light"
     },
     "output_type": "display_data"
    }
   ],
   "source": [
    "prop_dict = pd.Series(np.array((prop_ChildCount, prop_AdultCount, prop_middleAgeCount, prop_seniorCount)))\n",
    "prop_dict.index = bin_names\n",
    "\n",
    "ax = plot_bar(prop_dict,'AgeGroup','Proportion','Proportion of No_Show by Age Group')\n",
    "plt.show();"
   ]
  },
  {
   "cell_type": "markdown",
   "metadata": {},
   "source": [
    "\n"
   ]
  },
  {
   "cell_type": "markdown",
   "metadata": {},
   "source": [
    "##### We can see from this plot that Middle Age Adults are more likely to come for an appointment as they have the lowest rate of not showing up."
   ]
  },
  {
   "cell_type": "markdown",
   "metadata": {},
   "source": [
    "### Research Question 4\n",
    "#### Do medical conditions impair the ability of patients to show up for an appointment, if yes, which ones?"
   ]
  },
  {
   "cell_type": "markdown",
   "metadata": {},
   "source": [
    "The Handicap column has 5 categories that were not explained in the summary of the dataset.\n",
    "\n",
    "We will convert them to categorical variables in order to analyze the impact of each category on showing up for appointments."
   ]
  },
  {
   "cell_type": "code",
   "execution_count": 29,
   "metadata": {},
   "outputs": [
    {
     "data": {
      "text/plain": [
       "array([0, 1, 2, 3, 4])"
      ]
     },
     "execution_count": 29,
     "metadata": {},
     "output_type": "execute_result"
    }
   ],
   "source": [
    "no_show_df.Handicap.unique()"
   ]
  },
  {
   "cell_type": "code",
   "execution_count": null,
   "metadata": {},
   "outputs": [],
   "source": []
  },
  {
   "cell_type": "code",
   "execution_count": 30,
   "metadata": {},
   "outputs": [
    {
     "data": {
      "image/png": "[encoded data removed]",
      "text/plain": [
       "<matplotlib.figure.Figure at 0x7f80db9ca1d0>"
      ]
     },
     "metadata": {
      "needs_background": "light"
     },
     "output_type": "display_data"
    }
   ],
   "source": [
    "plt_data = no_show_df.groupby('Handicap')['No-show'].value_counts()\n",
    "ax = plot_bar(plt_data,'Handicap','Count','Count of No_Show by Handicap')\n",
    "plt.show();"
   ]
  },
  {
   "cell_type": "code",
   "execution_count": 31,
   "metadata": {},
   "outputs": [],
   "source": [
    "# Find the proportion of no_show of each handicap type with groupby\n",
    "\n",
    "# Append \"Handicap\" to the handicap types\n",
    "no_show_df['Handicap'] = no_show_df['Handicap'].apply(lambda x: f'Handicap_{x}')"
   ]
  },
  {
   "cell_type": "code",
   "execution_count": 32,
   "metadata": {},
   "outputs": [
    {
     "name": "stdout",
     "output_type": "stream",
     "text": [
      "108282 2038 183 13 3\n",
      "0.202360503131 0.178115799804 0.20218579235 0.230769230769 0.333333333333\n"
     ]
    }
   ],
   "source": [
    "# Count of No_Show by Handicap type\n",
    "\n",
    "Handicap_0Count = no_show_df.groupby('Handicap')['No-show'].count()['Handicap_0']\n",
    "Handicap_1Count = no_show_df.groupby('Handicap')['No-show'].count()['Handicap_1']\n",
    "Handicap_2Count = no_show_df.groupby('Handicap')['No-show'].count()['Handicap_2']\n",
    "Handicap_3Count = no_show_df.groupby('Handicap')['No-show'].count()['Handicap_3']\n",
    "Handicap_4Count = no_show_df.groupby('Handicap')['No-show'].count()['Handicap_4']\n",
    "print(Handicap_0Count, Handicap_1Count, Handicap_2Count, Handicap_3Count, Handicap_4Count)\n",
    "\n",
    "# Proportions of each Handicap\n",
    "prop_Handicap_0Count = no_show_df.groupby('Handicap')['No-show'].sum()['Handicap_0']/Handicap_0Count\n",
    "prop_Handicap_1Count = no_show_df.groupby('Handicap')['No-show'].sum()['Handicap_1']/Handicap_1Count\n",
    "prop_Handicap_2Count = no_show_df.groupby('Handicap')['No-show'].sum()['Handicap_2']/Handicap_2Count\n",
    "prop_Handicap_3Count = no_show_df.groupby('Handicap')['No-show'].sum()['Handicap_3']/Handicap_3Count\n",
    "prop_Handicap_4Count = no_show_df.groupby('Handicap')['No-show'].sum()['Handicap_4']/Handicap_4Count\n",
    "print(prop_Handicap_0Count, prop_Handicap_1Count, prop_Handicap_2Count, prop_Handicap_3Count,prop_Handicap_4Count)\n"
   ]
  },
  {
   "cell_type": "code",
   "execution_count": 33,
   "metadata": {},
   "outputs": [
    {
     "data": {
      "image/png": "[encoded data removed]",
      "text/plain": [
       "<matplotlib.figure.Figure at 0x7f80db866c88>"
      ]
     },
     "metadata": {
      "needs_background": "light"
     },
     "output_type": "display_data"
    }
   ],
   "source": [
    "prop_dict = pd.Series(np.array((prop_Handicap_0Count, prop_Handicap_1Count, prop_Handicap_2Count, prop_Handicap_3Count, prop_Handicap_4Count)))\n",
    "prop_dict.index = ['Handicap_0','Handicap_1','Handicap_2','Handicap_3','Handicap_4']\n",
    "\n",
    "ax = plot_bar(prop_dict,'Handicap','Proportion','Proportion of No_Show by Handicap')\n",
    "plt.show();"
   ]
  },
  {
   "cell_type": "markdown",
   "metadata": {},
   "source": [
    "\n",
    "\n",
    "##### A patient who is handicap_4 is 13 % more likely to not show up to an appointment than a person who is not handicap_4.\n",
    "\n"
   ]
  },
  {
   "cell_type": "markdown",
   "metadata": {},
   "source": [
    "\n"
   ]
  },
  {
   "cell_type": "markdown",
   "metadata": {},
   "source": [
    "\n",
    "## Limitations\n",
    "\n",
    "### Gaps in Analysis\n",
    "- No machine learning involved to test and validate the impact of features on showing up\n",
    "- Attendance history of each patient was not analyzed.\n",
    "- The number of days between scheduled day and appointment day can be an important factor that impacts showing up rate. This was not analyzed here."
   ]
  },
  {
   "cell_type": "markdown",
   "metadata": {},
   "source": [
    "<a id='conclusions'></a>\n",
    "## Conclusions\n",
    "\n",
    "### These are my findings from the analysis of the data provided:\n",
    "\n",
    "\n",
    "1. 80% of patients are likely to show up for a medical appointment.\n",
    "\n",
    "2. Gender and alcoholism do not really determine if a person shows up to an appointment or not. Hypertension seems to have some affect, as a patient who has hypertension is 3% more likely to show up than a patient who doesn't have hyper tension. Diabetes seems to have a small effect too although this is smaller than that of hypertension.\n",
    "\n",
    "3. Middle aged adults (37yrs - 54yrs) are least likely to miss an appointment while adults (18yrs - 36yrs) are most likely to miss an appointment.\n",
    "\n",
    "4. A patient who is handicap_4 is 13 % more likely to not show up to an appointment than a person who is not handicap_4.\n",
    "\n",
    "\n",
    "\n",
    "## Submitting your Project \n",
    "\n",
    "### Done"
   ]
  },
  {
   "cell_type": "code",
   "execution_count": 34,
   "metadata": {},
   "outputs": [
    {
     "data": {
      "text/plain": [
       "0"
      ]
     },
     "execution_count": 34,
     "metadata": {},
     "output_type": "execute_result"
    }
   ],
   "source": [
    "from subprocess import call\n",
    "call(['python', '-m', 'nbconvert', 'Investigate_a_Dataset.ipynb'])"
   ]
  },
  {
   "cell_type": "code",
   "execution_count": null,
   "metadata": {},
   "outputs": [],
   "source": []
  }
 ],
 "metadata": {
  "kernelspec": {
   "display_name": "Python 3",
   "language": "python",
   "name": "python3"
  },
  "language_info": {
   "codemirror_mode": {
    "name": "ipython",
    "version": 3
   },
   "file_extension": ".py",
   "mimetype": "text/x-python",
   "name": "python",
   "nbconvert_exporter": "python",
   "pygments_lexer": "ipython3",
   "version": "3.6.3"
  }
 },
 "nbformat": 4,
 "nbformat_minor": 2
}
